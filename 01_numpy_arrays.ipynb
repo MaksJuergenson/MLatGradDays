{
 "cells": [
  {
   "cell_type": "markdown",
   "metadata": {},
   "source": [
    "# Numpy Arrays\n",
    "Numpy arrays are the Python container specialised for multi-dimensional numerical calculations and data visualization. They are offered within the `numpy` module.\n",
    "\n",
    "- They form an array of *homogeneous* (typically numerical) data\n",
    "- A list of numerical types available for numpy-arrays is [here](http://docs.scipy.org/doc/numpy/user/basics.types.html)\n",
    "- They consist of the data-array and information on the structure of the array (metadata on memory layout)\n",
    "- Besides the array-type the `numpy`-module contains *vectorized* functions allowing *very fast* manipulation of `numpy`-arrays."
   ]
  },
  {
   "cell_type": "code",
   "execution_count": 1,
   "metadata": {
    "collapsed": false
   },
   "outputs": [
    {
     "name": "stdout",
     "output_type": "stream",
     "text": [
      "<class 'numpy.ndarray'>\n",
      "float64\n",
      "1\n",
      "(4,)\n",
      "(8,)\n"
     ]
    }
   ],
   "source": [
    "import numpy as np\n",
    "\n",
    "# numpy-array creation from a list:\n",
    "a = np.array([1.0, 2.0, 3.0, 4.0])  # np.array is a type-conversion function\n",
    "print(type(a))     # the type is numpy-array\n",
    "print(a.dtype)     # the data-type object.\n",
    "print(a.ndim)      # number of array dimensions\n",
    "print(a.shape)     # shape of an array (interesting mainly for multi-dimensional arrays)\n",
    "print(a.strides)   # The number of bytes fron one element to the next"
   ]
  },
  {
   "cell_type": "markdown",
   "metadata": {},
   "source": [
    "## Basic Array creation"
   ]
  },
  {
   "cell_type": "code",
   "execution_count": 2,
   "metadata": {
    "collapsed": false,
    "scrolled": true
   },
   "outputs": [
    {
     "name": "stdout",
     "output_type": "stream",
     "text": [
      "[ 0.   0.1  0.2  0.3  0.4  0.5  0.6  0.7  0.8  0.9]\n",
      "[ 0.   0.1  0.2  0.3  0.4  0.5  0.6  0.7  0.8  0.9  1. ]\n",
      "[ 0.  0.  0.  0.  0.  0.  0.  0.  0.  0.]\n"
     ]
    }
   ],
   "source": [
    "import numpy as np\n",
    "\n",
    "# many possibilities to create \n",
    "a = np.arange(0.0, 1.0, 0.1)  # array between two limits with a given distance\n",
    "                              # between array elements. The array if a half-open\n",
    "                              # interval!\n",
    "print(a)\n",
    "b = np.linspace(0.0, 1.0, 11) # array between two limits with a given number of\n",
    "                              # array elements. Both limits are contained in the\n",
    "                              # array\n",
    "print(b)\n",
    "c = np.zeros(10)              # array of 10 elements with 0 \n",
    "print(c)"
   ]
  },
  {
   "cell_type": "markdown",
   "metadata": {},
   "source": [
    "## Slicing operations\n",
    "Array slicing for (one-dimensional) numpy arrays works exactly as for lists and other Python containers"
   ]
  },
  {
   "cell_type": "code",
   "execution_count": 3,
   "metadata": {
    "collapsed": false
   },
   "outputs": [
    {
     "name": "stdout",
     "output_type": "stream",
     "text": [
      "[ 0  1  2  3  4  5  6  7  8  9 10]\n",
      "5\n",
      "[2 3 4 5]\n",
      "[1 3 5 7 9]\n",
      "[0 1 2 3 4 5 6 7 8 9]\n"
     ]
    }
   ],
   "source": [
    "import numpy as np\n",
    "\n",
    "a = np.arange(0, 11, 1)\n",
    "print(a)\n",
    "print(a[5])    # access 6th element (zero-based arrays!)\n",
    "print(a[2:6])  # access third up to the sixth element\n",
    "print(a[1::2]) # access every other element starting from the second\n",
    "print(a[:-1])  # access all elements except the last"
   ]
  },
  {
   "cell_type": "markdown",
   "metadata": {},
   "source": [
    "### Exercises\n",
    "- create a numpy array of 10 zeros of 'int32' data-type.\n",
    "- create an array with 10 logarithmically spaces elements between 1 and 100.\n",
    "- Use your knowledge on C or Fortran to explain the result of the following cell"
   ]
  },
  {
   "cell_type": "code",
   "execution_count": 10,
   "metadata": {
    "collapsed": false
   },
   "outputs": [
    {
     "name": "stdout",
     "output_type": "stream",
     "text": [
      "int32\n",
      "[   1.            1.66810054    2.7825594     4.64158883    7.74263683\n",
      "   12.91549665   21.5443469    35.93813664   59.94842503  100.        ]\n"
     ]
    }
   ],
   "source": [
    "import numpy as np\n",
    "\n",
    "a = np.zeros(10, dtype='int32')\n",
    "print(a.dtype)\n",
    "b = np.logspace(0,2,10)\n",
    "print(b)"
   ]
  },
  {
   "cell_type": "code",
   "execution_count": 11,
   "metadata": {
    "collapsed": false
   },
   "outputs": [
    {
     "name": "stdout",
     "output_type": "stream",
     "text": [
      "Array a: [ 0  1  2  3  4  5  6  7  8  9 10]\n",
      "Array b: [2 3 4]\n",
      "Array b: [100   3   4]\n",
      "Array a: [  0   1 100   3   4   5   6   7   8   9  10]\n",
      "Array c: [ 0  1  2  3  4  5  6  7  8  9 10]\n",
      "Array d: [2 3 4]\n",
      "Array d: [100   3   4]\n",
      "Array c: [ 0  1  2  3  4  5  6  7  8  9 10]\n"
     ]
    }
   ],
   "source": [
    "import numpy as np\n",
    "\n",
    "a = np.arange(0,11, 1)\n",
    "print(\"Array a:\", a)\n",
    "b = a[2:5]    # array slicing creates 'views' of an existing array!\n",
    "print(\"Array b:\", b)\n",
    "b[0] = 100\n",
    "print(\"Array b:\", b)\n",
    "print(\"Array a:\", a)\n",
    "\n",
    "c = np.arange(0,11, 1)\n",
    "print(\"Array c:\", c)\n",
    "d = c[2:5].copy()  # we create an explicit copy here!\n",
    "print(\"Array d:\", d)\n",
    "d[0] = 100\n",
    "print(\"Array d:\", d)\n",
    "print(\"Array c:\", c)"
   ]
  },
  {
   "cell_type": "markdown",
   "metadata": {},
   "source": [
    "## Array operations\n",
    "`numpy`-arrays can be connected with mathematical operations and they behave as you would expect them to."
   ]
  },
  {
   "cell_type": "code",
   "execution_count": 13,
   "metadata": {
    "collapsed": false
   },
   "outputs": [
    {
     "name": "stdout",
     "output_type": "stream",
     "text": [
      "[5 7 9]\n",
      "[ 4 10 18]\n",
      "[ 9 12 15]\n",
      "[  1  32 729]\n",
      "[False  True  True]\n"
     ]
    }
   ],
   "source": [
    "x = np.array([1, 2, 3])\n",
    "y = np.array([4, 5, 6])\n",
    "print(x + y)   # element-wise addition\n",
    "print(x * y)   # element-wise multiplication\n",
    "print(x + 2 * y)  # more complex manipulation\n",
    "print(x**y)\n",
    "a = y > 4\n",
    "print(a)    # element-wise comparison resulting in\n",
    "                # a bool-array!\n",
    "    "
   ]
  },
  {
   "cell_type": "markdown",
   "metadata": {},
   "source": [
    "application of high-performace, vectorized functions:"
   ]
  },
  {
   "cell_type": "code",
   "execution_count": 17,
   "metadata": {
    "collapsed": false
   },
   "outputs": [],
   "source": [
    "x = np.linspace(0.0, 2.0 * np.pi, 50)\n",
    "y = np.sin(x)"
   ]
  },
  {
   "cell_type": "markdown",
   "metadata": {},
   "source": [
    "**Manipulate numpy-arrays with vector operations whenever possible!** If somebody tells you that Python is about 10 times slower than C, they talk about element-wise array manipulations with loops!"
   ]
  },
  {
   "cell_type": "code",
   "execution_count": 18,
   "metadata": {
    "collapsed": false
   },
   "outputs": [
    {
     "name": "stdout",
     "output_type": "stream",
     "text": [
      "The slowest run took 11.94 times longer than the fastest. This could mean that an intermediate result is being cached.\n",
      "100000 loops, best of 3: 7.16 µs per loop\n"
     ]
    }
   ],
   "source": [
    "%%timeit\n",
    "# fast vector operations\n",
    "x = np.linspace(0.0, 2.0 * np.pi, 100)\n",
    "y = np.sin(x)"
   ]
  },
  {
   "cell_type": "code",
   "execution_count": 19,
   "metadata": {
    "collapsed": false
   },
   "outputs": [
    {
     "name": "stdout",
     "output_type": "stream",
     "text": [
      "The slowest run took 4.73 times longer than the fastest. This could mean that an intermediate result is being cached.\n",
      "10000 loops, best of 3: 84.9 µs per loop\n"
     ]
    }
   ],
   "source": [
    "%%timeit\n",
    "# C-like element-wise array manipulation\n",
    "x = np.linspace(0.0, 2.0 * np.pi, 100)\n",
    "y = np.zeros(len(x))\n",
    "\n",
    "for i in range(len(x)):\n",
    "    y[i] = np.sin(x[i])"
   ]
  },
  {
   "cell_type": "markdown",
   "metadata": {},
   "source": [
    "### Exercise:\n",
    "- Calculate the `scalar` product of two one-dimensional numpy arrays: $s=\\sum_{i=1}^Na_ib_i$.\n",
    "\n",
    "  **Hint**: The function `np.sum` calculates the sum of the elements of an array.\n",
    "- Use the function `random_sample` witin the module `numpy.random` to create a numpy array $x$ of 1000 uniformly distributed random numbers within $[-1;1)$.\n",
    "- Calculate the mean $\\bar{x}=\\frac 1N\\sum_{i=1}^N x_i$ and the standard deviation\n",
    "$s_x=\\sqrt{\\frac 1{N-1}\\sum_{i=1}^N(x_i-\\bar{x})^2}$ of the elements in $x$. Does the result meet your expectations?\n",
    "\n",
    "  You can use the function `numpy.sum` **but not** the functions `numpy.mean` and `numpy.std` for this exercise!\n"
   ]
  },
  {
   "cell_type": "code",
   "execution_count": 48,
   "metadata": {
    "collapsed": false
   },
   "outputs": [
    {
     "name": "stdout",
     "output_type": "stream",
     "text": [
      "Mean is  -0.0233863404662\n",
      "Stdev is  0.57485388029 0.574566381457\n"
     ]
    }
   ],
   "source": [
    "# your solutions here\n",
    "a = np.linspace(2,22,9)\n",
    "b = np.linspace(1,11,9)\n",
    "\n",
    "scalar = np.sum(a*b)\n",
    "#print(scalar)\n",
    "\n",
    "ran = 2*np.random.random_sample(1000)-1\n",
    "#print(ran[:30])\n",
    "\n",
    "N = np.size(ran)\n",
    "mu = np.sum(ran)/N\n",
    "print('Mean is ', mu)\n",
    "std = np.sqrt(1/(N-1)*np.sum((ran-mu)**2))\n",
    "print('Stdev is ', std, np.std(ran))"
   ]
  },
  {
   "cell_type": "markdown",
   "metadata": {},
   "source": [
    "## Basic plotting of numpy-Arrays\n",
    "We will cover matplotlib in more detail later but we give some basic commands here for simple plots!"
   ]
  },
  {
   "cell_type": "code",
   "execution_count": 44,
   "metadata": {
    "collapsed": false
   },
   "outputs": [
    {
     "data": {
      "text/plain": [
       "[<matplotlib.lines.Line2D at 0x87dc748>]"
      ]
     },
     "execution_count": 44,
     "metadata": {},
     "output_type": "execute_result"
    },
    {
     "data": {
      "image/png": "[encoded data removed]",
      "text/plain": [
       "<matplotlib.figure.Figure at 0x79d47f0>"
      ]
     },
     "metadata": {},
     "output_type": "display_data"
    }
   ],
   "source": [
    "%matplotlib inline\n",
    "# The previous line is necessary that matplotlib plots\n",
    "# appear within the Jupyter documents. It is sufficent to\n",
    "# give it once within a document.\n",
    "import numpy as np\n",
    "import matplotlib.pyplot as plt\n",
    "\n",
    "# matplotlib plots numpy-array values!\n",
    "x = np.linspace(0.0, 2.0 * np.pi, 20)\n",
    "y = np.sin(x)\n",
    "\n",
    "# a simple x-y plot\n",
    "plt.plot(x, y)\n"
   ]
  },
  {
   "cell_type": "code",
   "execution_count": 49,
   "metadata": {
    "collapsed": false
   },
   "outputs": [
    {
     "name": "stdout",
     "output_type": "stream",
     "text": [
      "[1 2 3]\n",
      "[1 4 3]\n",
      "[1 4 3]\n"
     ]
    }
   ],
   "source": [
    "a = np.array([1, 2, 3])\n",
    "b = a\n",
    "print(a)\n",
    "b[1] = 4\n",
    "print(b)\n",
    "print(a)"
   ]
  },
  {
   "cell_type": "markdown",
   "metadata": {},
   "source": [
    "### Worked example and exercise\n",
    "I will walk you through a very simple method to estimate derivatives of functions given at discrete points.\n",
    "\n",
    "Write Python code to estimate the derivative $\\frac{\\rm d}{\\rm{dx}}\\sin(x)$ with $x\\in[0, 2\\pi]$ and plot the result. Create another plot showing the difference between your estimated derivative and the function $\\cos(x)$."
   ]
  },
  {
   "cell_type": "code",
   "execution_count": 56,
   "metadata": {
    "collapsed": false
   },
   "outputs": [
    {
     "data": {
      "text/plain": [
       "[<matplotlib.lines.Line2D at 0x9970b00>,\n",
       " <matplotlib.lines.Line2D at 0x9970da0>,\n",
       " <matplotlib.lines.Line2D at 0x99746d8>]"
      ]
     },
     "execution_count": 56,
     "metadata": {},
     "output_type": "execute_result"
    },
    {
     "data": {
      "image/png": "[encoded data removed]",
      "text/plain": [
       "<matplotlib.figure.Figure at 0x9941080>"
      ]
     },
     "metadata": {},
     "output_type": "display_data"
    }
   ],
   "source": [
    "# your solution here\n",
    "def deriv(x, func, step=0.01):\n",
    "    return (func(x+step) - func(x))/step\n",
    "\n",
    "import numpy as np\n",
    "import matplotlib.pyplot as plt\n",
    "\n",
    "x = np.linspace(0.0, 2.0 * np.pi, 20)\n",
    "y = np.sin(x)\n",
    "\n",
    "# a simple x-y plot\n",
    "plt.plot(x, np.sin(x), 'r', x , deriv(x,np.sin), 'b', x, deriv(x, np.sin) - np.cos(x), 'g')\n"
   ]
  },
  {
   "cell_type": "markdown",
   "metadata": {},
   "source": [
    "## Fancy indexing and masking\n",
    "Slicing does not provide all the necessary functionality to extract sub-arrays. For instance, the application of a $\\log$-function only should happen on elements larger than zero. We would therefore like to act on array elements meeting more complex conditions."
   ]
  },
  {
   "cell_type": "markdown",
   "metadata": {},
   "source": [
    "### Fancy indexing"
   ]
  },
  {
   "cell_type": "code",
   "execution_count": 57,
   "metadata": {
    "collapsed": false
   },
   "outputs": [
    {
     "name": "stdout",
     "output_type": "stream",
     "text": [
      "[ 1  2  3  4  5  6  7  8  9 10]\n",
      "[2 3 9]\n",
      "[100   3   9]\n",
      "[ 1  2  3  4  5  6  7  8  9 10]\n"
     ]
    }
   ],
   "source": [
    "import numpy as np\n",
    "\n",
    "x = np.arange(1, 11, 1)\n",
    "print(x)\n",
    "ind = [1, 2, 8] # indices of elements we would like to extract\n",
    "b = x[ind]\n",
    "print(b)\n",
    "b[0] = 100\n",
    "print(b)\n",
    "print(x)"
   ]
  },
  {
   "cell_type": "markdown",
   "metadata": {
    "collapsed": true
   },
   "source": [
    "In contrast to slicing, fancy indexing **always** returns **copies** of the original array!"
   ]
  },
  {
   "cell_type": "markdown",
   "metadata": {},
   "source": [
    "### Masking"
   ]
  },
  {
   "cell_type": "code",
   "execution_count": 64,
   "metadata": {
    "collapsed": false
   },
   "outputs": [
    {
     "name": "stdout",
     "output_type": "stream",
     "text": [
      "[ 8 -5  2 -2 -8 -1 -2  4  1  6]\n",
      "[8 2 4 1 6]\n",
      "[2 1]\n",
      "[ 8 -8  6]\n"
     ]
    }
   ],
   "source": [
    "import numpy as np\n",
    "import numpy.random as nr\n",
    "\n",
    "x = nr.randint(-10, 10, 10)\n",
    "print(x)\n",
    "mask1 = (x > 0)  # mask is a bool array\n",
    "y = x[mask1]    # extract the values from x where mask = True\n",
    "print(y)\n",
    "mask2 = (x > 0) & (x < 4)  # combined mask (and condition)\n",
    "mask3 = (x < -5) | ( x > 5) # combined mask (or condition)\n",
    "print(x[mask2])\n",
    "print(x[mask3])"
   ]
  },
  {
   "cell_type": "markdown",
   "metadata": {},
   "source": [
    "### Exercises:\n",
    "- Give a Python command which multiplies all positive numbers in an integer-array with 2. Negative numbers should be unchanged. The mofification should happen in place, i.e. the original array is replaced by the new one.\n",
    "- Write a Python function `my_sign` which calculates the signum function `sgn(x)` of an integer numpy-array:\n",
    "  $$\\text{sgn}(x)=\\left\\{\\begin{array}{lr}-1 & x < 0 \\\\ 0 & x = 0 \\\\ 1 & x > 0\\\\\\end{array}\\right.$$\n",
    "  The function should return a *new* array and leave the original one unchanged."
   ]
  },
  {
   "cell_type": "code",
   "execution_count": 90,
   "metadata": {
    "collapsed": false
   },
   "outputs": [
    {
     "name": "stdout",
     "output_type": "stream",
     "text": [
      "[ 0 -8 -6  7  4 -1  5  4  5 -5] 10\n",
      "[ 0 -8 -6 14  8 -1 10  8 10 -5] 10\n"
     ]
    }
   ],
   "source": [
    "x = nr.randint(-10, 10, 10)\n",
    "print(x, np.size(x))\n",
    "x[x>0]*=2\n",
    "print(x, np.size(x))"
   ]
  },
  {
   "cell_type": "code",
   "execution_count": 7,
   "metadata": {
    "collapsed": false
   },
   "outputs": [
    {
     "name": "stdout",
     "output_type": "stream",
     "text": [
      "[  5  -2  10   0  -3   5   0 300]\n",
      "[ 1 -1  1  0 -1  1  0  1]\n"
     ]
    }
   ],
   "source": [
    "def my_sign(array):\n",
    "    sign = array.copy()\n",
    "    sign[sign<0]  = -1\n",
    "    sign[sign==0] =  0\n",
    "    sign[sign>0]  =  1\n",
    "    return sign\n",
    "\n",
    "a = np.array([5, -2, 10, 0, -3, 5, 0, 300])\n",
    "b = my_sign(a)\n",
    "print(a)\n",
    "print(b)"
   ]
  },
  {
   "cell_type": "markdown",
   "metadata": {},
   "source": [
    "## Two-dimensional `numpy`-arrays\n",
    "Two-dimensional arrays occur naturally as matrices, when reading data tables from a file or when creating 3D-plots. `numpy`-arrays can have any dimension though."
   ]
  },
  {
   "cell_type": "code",
   "execution_count": 93,
   "metadata": {
    "collapsed": false
   },
   "outputs": [
    {
     "name": "stdout",
     "output_type": "stream",
     "text": [
      "[[1 2 3]\n",
      " [4 5 6]]\n",
      "int32\n",
      "2\n",
      "(2, 3)\n",
      "(12, 4)\n",
      "6\n"
     ]
    }
   ],
   "source": [
    "import numpy as np\n",
    "\n",
    "a = np.array([[1,2,3], [4, 5,6]])\n",
    "print(a)\n",
    "print(a.dtype)     # the data-type object.\n",
    "print(a.ndim)      # number of array dimensions\n",
    "print(a.shape)     # shape of an array (interesting mainly for multi-dimensional arrays)\n",
    "print(a.strides)   # The number of bytes fron one element to the next\n",
    "print(a.size)      # total number of elements"
   ]
  },
  {
   "cell_type": "markdown",
   "metadata": {},
   "source": [
    "### Slicing\n",
    "Slicing and element access follows the same rules as in one dimension. The two dimensions are treated differently and separated with a comma within the element access operator."
   ]
  },
  {
   "cell_type": "code",
   "execution_count": 94,
   "metadata": {
    "collapsed": false
   },
   "outputs": [
    {
     "name": "stdout",
     "output_type": "stream",
     "text": [
      "[[ 0  1  2  3  4  5  6  7]\n",
      " [ 8  9 10 11 12 13 14 15]\n",
      " [16 17 18 19 20 21 22 23]\n",
      " [24 25 26 27 28 29 30 31]]\n",
      "10\n",
      "[10 18]\n",
      "[ 2 10 18 26]\n",
      "[16 17 18 19 20 21 22 23]\n",
      "[[11 12 13 14]\n",
      " [19 20 21 22]]\n"
     ]
    }
   ],
   "source": [
    "import numpy as np\n",
    "\n",
    "a = np.arange(32).reshape(4,8)  # reshape creates a view on the original array\n",
    "                                # with a modified shape\n",
    "print(a)\n",
    "print(a[1,2])                   # access element of second row, thrid column\n",
    "                                # first index = row, second index = column\n",
    "print(a[1:3,2])                 # access elements in the second and third row and\n",
    "                                # the third column\n",
    "print(a[:,2])                   # access elements of third column    \n",
    "print(a[2,:])                   # access elements of third row\n",
    "print(a[1:-1,3:-1])             # access 2D-subarray"
   ]
  },
  {
   "cell_type": "markdown",
   "metadata": {},
   "source": [
    "### Array operations\n",
    "\n",
    "The application of functions and operations between arrays happen *element-by-element*. By default, there is no notion of matrices or vectors!"
   ]
  },
  {
   "cell_type": "code",
   "execution_count": 96,
   "metadata": {
    "collapsed": false
   },
   "outputs": [
    {
     "name": "stdout",
     "output_type": "stream",
     "text": [
      "[[0 1]\n",
      " [2 3]]\n",
      "[[5 6]\n",
      " [7 8]]\n",
      "[[ 5  7]\n",
      " [ 9 11]]\n",
      "[[ 0  6]\n",
      " [14 24]]\n",
      "[[ 0.          0.84147098]\n",
      " [ 0.90929743  0.14112001]]\n",
      "[[ 7  8]\n",
      " [31 36]]\n",
      "[[ 7  8]\n",
      " [31 36]]\n"
     ]
    }
   ],
   "source": [
    "import numpy as np\n",
    "\n",
    "a = np.arange(4).reshape(2,2)\n",
    "b = np.arange(5, 9).reshape(2,2)\n",
    "\n",
    "print(a)\n",
    "print(b)\n",
    "print(a + b)\n",
    "print(a * b)\n",
    "print(np.sin(a))\n",
    "print(a.dot(b))  # this is a matrix multiplication\n",
    "print(a@b)"
   ]
  },
  {
   "cell_type": "markdown",
   "metadata": {},
   "source": [
    "Interesting are dimensionality reduction functions:"
   ]
  },
  {
   "cell_type": "code",
   "execution_count": 97,
   "metadata": {
    "collapsed": false
   },
   "outputs": [
    {
     "name": "stdout",
     "output_type": "stream",
     "text": [
      "[[0 1]\n",
      " [2 3]\n",
      " [4 5]]\n",
      "15\n",
      "[6 9]\n",
      "[1 5 9]\n"
     ]
    }
   ],
   "source": [
    "import numpy as np\n",
    "\n",
    "a = np.arange(6).reshape(3,2)\n",
    "\n",
    "print(a)\n",
    "print(np.sum(a))          # sum over all elements of the array\n",
    "print(np.sum(a, axis=0))  # sum along the 'first axis' (rows)\n",
    "print(np.sum(a, axis=1))# sum along the 'second axis' (columns)"
   ]
  },
  {
   "cell_type": "markdown",
   "metadata": {},
   "source": [
    "### Reading simple data-tables into numpy-array\n",
    "Very simple data tables in textfiles (numbers layout in columns) can be read with the `np.loadtxt` function into numpy-arrays"
   ]
  },
  {
   "cell_type": "code",
   "execution_count": 1,
   "metadata": {
    "collapsed": false
   },
   "outputs": [
    {
     "name": "stdout",
     "output_type": "stream",
     "text": [
      "[[  0.   1.   2.   3.   4.   5.]\n",
      " [ 10.  11.  12.  13.  14.  15.]\n",
      " [ 20.  21.  22.  23.  24.  25.]\n",
      " [ 30.  31.  32.  33.  34.  35.]\n",
      " [ 40.  41.  42.  43.  44.  45.]\n",
      " [ 50.  51.  52.  53.  54.  55.]]\n"
     ]
    }
   ],
   "source": [
    "import numpy as np\n",
    "\n",
    "a = np.loadtxt(\"data/slicing.txt\")\n",
    "\n",
    "print(a)"
   ]
  },
  {
   "cell_type": "markdown",
   "metadata": {},
   "source": [
    "### Exercises"
   ]
  },
  {
   "cell_type": "markdown",
   "metadata": {},
   "source": [
    "- Load the data from [data/slicing.txt](data/slicing.txt) into a `numpy`-array and obtain sub-arrays indicated by different colors with one `numpy` slice-command for each sub-array.\n",
    "\n",
    "  <img src=\"figs/slicing.png\",width=400,height=400>"
   ]
  },
  {
   "cell_type": "code",
   "execution_count": 103,
   "metadata": {
    "collapsed": false
   },
   "outputs": [
    {
     "name": "stdout",
     "output_type": "stream",
     "text": [
      "[[  0.   1.   2.   3.   4.   5.]\n",
      " [ 10.  11.  12.  13.  14.  15.]\n",
      " [ 20.  21.  22.  23.  24.  25.]\n",
      " [ 30.  31.  32.  33.  34.  35.]\n",
      " [ 40.  41.  42.  43.  44.  45.]\n",
      " [ 50.  51.  52.  53.  54.  55.]]\n",
      "[[ 20.  22.  24.]\n",
      " [ 40.  42.  44.]]\n"
     ]
    }
   ],
   "source": [
    "a = np.loadtxt(\"data/slicing.txt\")\n",
    "print(a)\n",
    "orange = a[0,3:5]\n",
    "#print(orange)\n",
    "red = a[:,2]\n",
    "#print(red)\n",
    "blue = a[-2:,-2:]\n",
    "#print(blue)\n",
    "green = a[2::2,::2]\n",
    "print(green)"
   ]
  },
  {
   "cell_type": "markdown",
   "metadata": {},
   "source": [
    "- (This exercise is partly taken from a previous Python-class of Thomas Robitaille):  \n",
    "  The [data/munich_temperatures_average_with_bad_data.txt](data/munich_temperatures_average_with_bad_data.txt) data file gives the temperature in Munich every day for several years:\n"
   ]
  },
  {
   "cell_type": "code",
   "execution_count": 24,
   "metadata": {
    "collapsed": false
   },
   "outputs": [
    {
     "name": "stdout",
     "output_type": "stream",
     "text": [
      "1995.00274 0.944444\r\n",
      "1995.00548 -1.61111\r\n",
      "1995.00821 -3.55556\r\n",
      "1995.01095 -9.83333\r\n",
      "1995.01369 -10.2222\r\n",
      "1995.01643 -9.5\r\n",
      "1995.01916 -10.2222\r\n",
      "1995.02190 -6.61111\r\n",
      "1995.02464 -2.94444\r\n",
      "1995.02738 1.55556\r\n"
     ]
    }
   ],
   "source": [
    "!head data/munich_temperatures_average_with_bad_data.txt"
   ]
  },
  {
   "cell_type": "markdown",
   "metadata": {},
   "source": [
    "- Read in the file using np.loadtxt. The data contains bad values, which you can identify by looking at the minimum and maximum values of the array. Use masking to get rid of the bad temperature values."
   ]
  },
  {
   "cell_type": "markdown",
   "metadata": {},
   "source": [
    "- Plot the temperature against the year"
   ]
  },
  {
   "cell_type": "markdown",
   "metadata": {},
   "source": [
    "- Calculate the following temperatures:\n",
    "  - The mean temperature over all years and all months\n",
    "  - The mean temperature in the months January until March\n",
    "    (**Hint**: What is the fractional part of the given year encodings for these months)\n",
    "  - The minimum, maximum and average temperature for each year between 1995 and 2012 (year 2013 has no complete\n",
    "    coverage). You can use a `for`-loop over the years for this part."
   ]
  },
  {
   "cell_type": "code",
   "execution_count": 5,
   "metadata": {
    "collapsed": false
   },
   "outputs": [
    {
     "name": "stdout",
     "output_type": "stream",
     "text": [
      "The overall mean temperature is 8.933 °C\n"
     ]
    },
    {
     "data": {
      "image/png": "[encoded data removed]",
      "text/plain": [
       "<matplotlib.figure.Figure at 0x5c21b00>"
      ]
     },
     "metadata": {},
     "output_type": "display_data"
    }
   ],
   "source": [
    "%matplotlib inline\n",
    "import numpy as np\n",
    "import matplotlib.pyplot as plt\n",
    "\n",
    "data = np.loadtxt(\"data/munich_temperatures_average_with_bad_data.txt\")\n",
    "year = data[:,0]\n",
    "temp = data[:,1]\n",
    "\n",
    "year = year[(temp<50)&(temp>-50)]\n",
    "temp = temp[(temp<50)&(temp>-50)]\n",
    "plt.plot(year,temp)\n",
    "\n",
    "overall_mean = np.mean(temp)\n",
    "print('The overall mean temperature is %.3f °C'%overall_mean)\n",
    "\n",
    "jan = 31/365\n",
    "feb = 28/365\n",
    "mar = 31/365\n",
    "\n",
    "np.unique?"
   ]
  },
  {
   "cell_type": "code",
   "execution_count": null,
   "metadata": {
    "collapsed": true
   },
   "outputs": [],
   "source": []
  }
 ],
 "metadata": {
  "anaconda-cloud": {},
  "kernelspec": {
   "display_name": "Python [default]",
   "language": "python",
   "name": "python3"
  },
  "language_info": {
   "codemirror_mode": {
    "name": "ipython",
    "version": 3
   },
   "file_extension": ".py",
   "mimetype": "text/x-python",
   "name": "python",
   "nbconvert_exporter": "python",
   "pygments_lexer": "ipython3",
   "version": "3.5.2"
  }
 },
 "nbformat": 4,
 "nbformat_minor": 0
}
